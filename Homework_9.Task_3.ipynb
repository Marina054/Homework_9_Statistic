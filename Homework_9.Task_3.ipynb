{
 "cells": [
  {
   "cell_type": "markdown",
   "id": "3d0f686c",
   "metadata": {},
   "source": [
    "Произвести вычисления как в пункте 2, но с вычислением intercept. Учесть, что изменение коэффициентов должно производиться на каждом шаге одновременно (то есть изменение одного коэффициента не должно влиять на изменение другого во время одной итерации)."
   ]
  },
  {
   "cell_type": "code",
   "execution_count": 1,
   "id": "b63900a4",
   "metadata": {},
   "outputs": [],
   "source": [
    "import numpy as np\n",
    "import matplotlib.pyplot as plt\n",
    "import scipy.stats as st\n",
    "from sklearn.linear_model import LinearRegression\n",
    "import statsmodels.api as sm\n",
    "import pandas as pd"
   ]
  },
  {
   "cell_type": "code",
   "execution_count": 2,
   "id": "140b6164",
   "metadata": {},
   "outputs": [],
   "source": [
    "zp = np.array([35, 45, 190, 200, 40, 70, 54, 150, 120, 110])\n",
    "ks = np.array([401, 574, 874, 919, 459, 739, 653, 902, 746, 832])"
   ]
  },
  {
   "cell_type": "code",
   "execution_count": 4,
   "id": "0398d02e",
   "metadata": {},
   "outputs": [
    {
     "name": "stdout",
     "output_type": "stream",
     "text": [
      "Iteration = 0, B1 = 15952.908000000003, mse = 3503491229332.4155\n",
      "Iteration = 1, B1 = -43923185.22256002, mse = 2.6578460328237486e+19\n",
      "Iteration = 2, B1 = 120978523750.54153, mse = 2.0163160646755257e+26\n",
      "Iteration = 3, B1 = -333213567520363.3, mse = 1.529633553810229e+33\n",
      "Iteration = 4, B1 = 9.177767932927037e+17, mse = 1.1604226390561632e+40\n",
      "Iteration = 5, B1 = -2.527850977301961e+21, mse = 8.803289506037676e+46\n",
      "Iteration = 6, B1 = 6.962510503802338e+24, mse = 6.678420733858347e+53\n",
      "Iteration = 7, B1 = -1.9176981930832858e+28, mse = 5.0664360711799346e+60\n",
      "Iteration = 8, B1 = 5.281954487173157e+31, mse = 3.843539586120604e+67\n",
      "Iteration = 9, B1 = -1.4548192883110775e+35, mse = 2.915816235027649e+74\n"
     ]
    }
   ],
   "source": [
    "def mse_(B1, ks=ks,zp = zp, n = len(zp)):\n",
    "    return np.sum ((B1 * zp - ks)**2) / n\n",
    "alpha = 0.1\n",
    "B1 = 0.1\n",
    "n = 10\n",
    "for i in range(10):\n",
    "    B1 -= alpha * (2/n) * np.sum ((B1 * zp -ks) * zp)\n",
    "    \n",
    "    print('Iteration = {i}, B1 = {B1}, mse = {mse}'.format(i=i, B1 = B1, mse = mse_(B1)))"
   ]
  },
  {
   "cell_type": "code",
   "execution_count": 5,
   "id": "be3216d8",
   "metadata": {},
   "outputs": [
    {
     "data": {
      "text/plain": [
       "3503491229332.4155"
      ]
     },
     "execution_count": 5,
     "metadata": {},
     "output_type": "execute_result"
    }
   ],
   "source": [
    "mse_(15952.908000000003)"
   ]
  },
  {
   "cell_type": "code",
   "execution_count": null,
   "id": "e34390e3",
   "metadata": {},
   "outputs": [],
   "source": []
  }
 ],
 "metadata": {
  "kernelspec": {
   "display_name": "Python 3 (ipykernel)",
   "language": "python",
   "name": "python3"
  },
  "language_info": {
   "codemirror_mode": {
    "name": "ipython",
    "version": 3
   },
   "file_extension": ".py",
   "mimetype": "text/x-python",
   "name": "python",
   "nbconvert_exporter": "python",
   "pygments_lexer": "ipython3",
   "version": "3.9.13"
  }
 },
 "nbformat": 4,
 "nbformat_minor": 5
}
