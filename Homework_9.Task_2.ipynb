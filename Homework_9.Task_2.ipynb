{
 "cells": [
  {
   "cell_type": "markdown",
   "id": "7c79e6f8",
   "metadata": {},
   "source": [
    "Посчитать коэффициент линейной регрессии при заработной плате (zp), используя градиентный спуск (без intercept)."
   ]
  },
  {
   "cell_type": "code",
   "execution_count": 16,
   "id": "d17f6249",
   "metadata": {},
   "outputs": [],
   "source": [
    "import numpy as np\n",
    "import matplotlib.pyplot as plt\n",
    "import scipy.stats as st\n",
    "from sklearn.linear_model import LinearRegression\n",
    "import statsmodels.api as sm\n",
    "import pandas as pd"
   ]
  },
  {
   "cell_type": "code",
   "execution_count": 17,
   "id": "c2114915",
   "metadata": {},
   "outputs": [],
   "source": [
    "zp = np.array([35, 45, 190, 200, 40, 70, 54, 150, 120, 110])\n",
    "ks = np.array([401, 574, 874, 919, 459, 739, 653, 902, 746, 832])"
   ]
  },
  {
   "cell_type": "code",
   "execution_count": 65,
   "id": "326b9cd7",
   "metadata": {},
   "outputs": [
    {
     "name": "stdout",
     "output_type": "stream",
     "text": [
      "B1 = 15952.908000000003\n",
      "B1 = -43923185.22256002\n",
      "B1 = 120978523750.54153\n",
      "B1 = -333213567520363.3\n",
      "B1 = 9.177767932927037e+17\n",
      "B1 = -2.527850977301961e+21\n",
      "B1 = 6.962510503802338e+24\n",
      "B1 = -1.9176981930832858e+28\n",
      "B1 = 5.281954487173157e+31\n",
      "B1 = -1.4548192883110775e+35\n"
     ]
    }
   ],
   "source": [
    "def mse_(B1, ks=ks,zp = zp, n = len(zp)):\n",
    "    return np.sum ((B1 * zp - ks)**2) / n\n",
    "alpha = 0.1\n",
    "B1 = 0.1\n",
    "n = 10\n",
    "for i in range(10):\n",
    "    B1 -= alpha * (2/n) * np.sum ((B1 * zp -ks) * zp)\n",
    "    print('B1 = {}'.format(B1))"
   ]
  },
  {
   "cell_type": "code",
   "execution_count": 67,
   "id": "3d3dcd90",
   "metadata": {},
   "outputs": [
    {
     "data": {
      "text/plain": [
       "3503491229332.4155"
      ]
     },
     "execution_count": 67,
     "metadata": {},
     "output_type": "execute_result"
    }
   ],
   "source": [
    "mse_(15952.908000000003)"
   ]
  },
  {
   "cell_type": "code",
   "execution_count": null,
   "id": "35565b1c",
   "metadata": {},
   "outputs": [],
   "source": []
  }
 ],
 "metadata": {
  "kernelspec": {
   "display_name": "Python 3 (ipykernel)",
   "language": "python",
   "name": "python3"
  },
  "language_info": {
   "codemirror_mode": {
    "name": "ipython",
    "version": 3
   },
   "file_extension": ".py",
   "mimetype": "text/x-python",
   "name": "python",
   "nbconvert_exporter": "python",
   "pygments_lexer": "ipython3",
   "version": "3.9.13"
  }
 },
 "nbformat": 4,
 "nbformat_minor": 5
}
